{
  "nbformat": 4,
  "nbformat_minor": 0,
  "metadata": {
    "colab": {
      "provenance": []
    },
    "kernelspec": {
      "name": "python3",
      "display_name": "Python 3"
    },
    "language_info": {
      "name": "python"
    }
  },
  "cells": [
    {
      "cell_type": "code",
      "execution_count": 1,
      "metadata": {
        "colab": {
          "base_uri": "https://localhost:8080/"
        },
        "id": "ye22Eq5rQpU3",
        "outputId": "59105dbe-490b-4de6-c1a6-0ddc8019799a"
      },
      "outputs": [
        {
          "output_type": "stream",
          "name": "stdout",
          "text": [
            "Requirement already satisfied: matplotlib in /usr/local/lib/python3.12/dist-packages (3.10.0)\n",
            "Requirement already satisfied: numpy in /usr/local/lib/python3.12/dist-packages (2.0.2)\n",
            "Requirement already satisfied: imageio in /usr/local/lib/python3.12/dist-packages (2.37.0)\n",
            "Requirement already satisfied: contourpy>=1.0.1 in /usr/local/lib/python3.12/dist-packages (from matplotlib) (1.3.3)\n",
            "Requirement already satisfied: cycler>=0.10 in /usr/local/lib/python3.12/dist-packages (from matplotlib) (0.12.1)\n",
            "Requirement already satisfied: fonttools>=4.22.0 in /usr/local/lib/python3.12/dist-packages (from matplotlib) (4.59.2)\n",
            "Requirement already satisfied: kiwisolver>=1.3.1 in /usr/local/lib/python3.12/dist-packages (from matplotlib) (1.4.9)\n",
            "Requirement already satisfied: packaging>=20.0 in /usr/local/lib/python3.12/dist-packages (from matplotlib) (25.0)\n",
            "Requirement already satisfied: pillow>=8 in /usr/local/lib/python3.12/dist-packages (from matplotlib) (11.3.0)\n",
            "Requirement already satisfied: pyparsing>=2.3.1 in /usr/local/lib/python3.12/dist-packages (from matplotlib) (3.2.3)\n",
            "Requirement already satisfied: python-dateutil>=2.7 in /usr/local/lib/python3.12/dist-packages (from matplotlib) (2.9.0.post0)\n",
            "Requirement already satisfied: six>=1.5 in /usr/local/lib/python3.12/dist-packages (from python-dateutil>=2.7->matplotlib) (1.17.0)\n"
          ]
        }
      ],
      "source": [
        "pip install matplotlib numpy imageio"
      ]
    },
    {
      "cell_type": "code",
      "source": [
        "import numpy as np\n",
        "import matplotlib.pyplot as plt\n",
        "import imageio\n",
        "import os\n",
        "\n",
        "# --------------------------\n",
        "# Configuración inicial\n",
        "# --------------------------\n",
        "\n",
        "square = np.array([\n",
        "    [0, 0, 1],\n",
        "    [1, 0, 1],\n",
        "    [1, 1, 1],\n",
        "    [0, 1, 1],\n",
        "    [0, 0, 1]\n",
        "])\n",
        "\n",
        "\n",
        "os.makedirs(\"frames\", exist_ok=True)\n",
        "\n",
        "# --------------------------\n",
        "# Funciones de transformación\n",
        "# --------------------------\n",
        "def translation_matrix(tx, ty):\n",
        "    return np.array([\n",
        "        [1, 0, tx],\n",
        "        [0, 1, ty],\n",
        "        [0, 0, 1]\n",
        "    ])\n",
        "\n",
        "def rotation_matrix(theta):\n",
        "    return np.array([\n",
        "        [np.cos(theta), -np.sin(theta), 0],\n",
        "        [np.sin(theta),  np.cos(theta), 0],\n",
        "        [0, 0, 1]\n",
        "    ])\n",
        "\n",
        "def scale_matrix(sx, sy):\n",
        "    return np.array([\n",
        "        [sx, 0, 0],\n",
        "        [0, sy, 0],\n",
        "        [0, 0, 1]\n",
        "    ])\n",
        "\n",
        "# --------------------------\n",
        "# Animación\n",
        "# --------------------------\n",
        "frames = []\n",
        "n_frames = 40\n",
        "\n",
        "for t in range(n_frames):\n",
        "    angle = np.radians(t * 10)\n",
        "    tx = np.sin(t * 0.2) * 2\n",
        "    ty = np.cos(t * 0.2) * 2\n",
        "    scale = 1 + 0.5 * np.sin(t * 0.3)\n",
        "\n",
        "\n",
        "    transform = translation_matrix(tx, ty) @ rotation_matrix(angle) @ scale_matrix(scale, scale)\n",
        "\n",
        "\n",
        "    transformed_square = square @ transform.T\n",
        "\n",
        "\n",
        "    plt.figure(figsize=(4, 4))\n",
        "    plt.plot(transformed_square[:, 0], transformed_square[:, 1], 'b-', linewidth=2)\n",
        "    plt.xlim(-5, 5)\n",
        "    plt.ylim(-5, 5)\n",
        "    plt.title(f\"Frame {t}\")\n",
        "    plt.axis(\"equal\")\n",
        "    plt.grid(True)\n",
        "\n",
        "    filename = f\"frames/frame_{t}.png\"\n",
        "    plt.savefig(filename)\n",
        "    plt.close()\n",
        "    frames.append(imageio.imread(filename))\n",
        "\n",
        "# --------------------------\n",
        "# Exportar GIF\n",
        "# --------------------------\n",
        "imageio.mimsave(\"transformations.gif\", frames, fps=8)\n",
        "\n",
        "print(\"✅ GIF generado: transformations.gif\")\n"
      ],
      "metadata": {
        "colab": {
          "base_uri": "https://localhost:8080/"
        },
        "id": "_kqknYv9QsKd",
        "outputId": "c69675f1-181e-4546-d57b-f33092120843"
      },
      "execution_count": 2,
      "outputs": [
        {
          "output_type": "stream",
          "name": "stderr",
          "text": [
            "/tmp/ipython-input-625850305.py:75: DeprecationWarning: Starting with ImageIO v3 the behavior of this function will switch to that of iio.v3.imread. To keep the current behavior (and make this warning disappear) use `import imageio.v2 as imageio` or call `imageio.v2.imread` directly.\n",
            "  frames.append(imageio.imread(filename))\n"
          ]
        },
        {
          "output_type": "stream",
          "name": "stdout",
          "text": [
            "✅ GIF generado: transformations.gif\n"
          ]
        }
      ]
    }
  ]
}